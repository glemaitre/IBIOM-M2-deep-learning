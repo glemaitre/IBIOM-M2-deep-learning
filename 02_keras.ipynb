{
 "cells": [
  {
   "cell_type": "markdown",
   "metadata": {},
   "source": [
    "# Introduction to Keras"
   ]
  },
  {
   "cell_type": "markdown",
   "metadata": {},
   "source": [
    "We will use extensively numpy, pandas, and matplotlib libraries over the lectures."
   ]
  },
  {
   "cell_type": "code",
   "execution_count": 1,
   "metadata": {},
   "outputs": [],
   "source": [
    "import numpy as np\n",
    "import pandas as pd\n",
    "import matplotlib.pyplot as plt\n",
    "%matplotlib inline"
   ]
  },
  {
   "cell_type": "markdown",
   "metadata": {},
   "source": [
    "### 1 .Recall of the previous notebook"
   ]
  },
  {
   "cell_type": "markdown",
   "metadata": {},
   "source": [
    "In the previous notebook, we implemented our own logistic regression classifier based using the negative log likelihood loss function and a stochastic gradient descent optimizer"
   ]
  },
  {
   "cell_type": "code",
   "execution_count": 2,
   "metadata": {},
   "outputs": [],
   "source": [
    "from sklearn.metrics import log_loss\n",
    "\n",
    "\n",
    "class LogisticRegression:\n",
    "    \n",
    "    def __init__(self, learning_rate=0.1, max_iter=100, tol=1e-3,\n",
    "                 batch_size=20):\n",
    "        self.learning_rate = learning_rate\n",
    "        self.max_iter = max_iter\n",
    "        self.tol = tol\n",
    "        self.batch_size = batch_size\n",
    "    \n",
    "    def _sigmoid(self, X):\n",
    "        return 1 / (1 + np.exp(-X))\n",
    "    \n",
    "    def _decision_function(self, X):\n",
    "        return np.dot(X, self.coefs_)\n",
    "    \n",
    "    def decision_function(self, X):\n",
    "        X = self._add_intercept(X)\n",
    "        return self._decision_function(X).ravel()\n",
    "    \n",
    "    def _grad_nll(self, X, y):\n",
    "        grad = (self._predict_proba(X) - y)\n",
    "        return np.dot(X.T, grad)\n",
    "    \n",
    "    def _add_intercept(self, X):\n",
    "        return np.hstack((X, np.ones(shape=(X.shape[0], 1))))\n",
    "\n",
    "    def fit(self, X, y):\n",
    "        X = self._add_intercept(X)\n",
    "        # Make y to be a column vector for later operation\n",
    "        y = np.atleast_2d(y).T\n",
    "        # Initialize randomly the weights\n",
    "        self.coefs_ = np.random.rand(X.shape[1], 1)\n",
    "        \n",
    "        it = 0\n",
    "        loss = np.inf\n",
    "        while it < self.max_iter and loss > self.tol:\n",
    "            # select a minibatch\n",
    "            idx = np.random.choice(np.arange(X.shape[0]),\n",
    "                                   size=self.batch_size)\n",
    "            X_subset, y_subset = X[idx], y[idx]\n",
    "            # compute the gradient\n",
    "            dnll = self._grad_nll(X_subset, y_subset)\n",
    "            # update the parameter\n",
    "            self.coefs_ -= (self.learning_rate / X_subset.shape[0]) * dnll\n",
    "            # update the loss and the number of iteration\n",
    "            loss = log_loss(y, self._predict_proba(X))\n",
    "            it += 1\n",
    "        return self\n",
    "    \n",
    "    def _predict_proba(self, X):\n",
    "        return self._sigmoid(self._decision_function(X))\n",
    "    \n",
    "    def predict_proba(self, X):\n",
    "        X = self._add_intercept(X)\n",
    "        return self._predict_proba(X)\n",
    "\n",
    "    def predict(self, X):\n",
    "        prob = self.predict_proba(X)\n",
    "        prob[prob < 0.5] = 0\n",
    "        prob[prob >= 0.5] = 1\n",
    "        return prob.astype(int).ravel()\n",
    "    \n",
    "    def score(self, X, y):\n",
    "        return np.mean(y == self.predict(X))"
   ]
  },
  {
   "cell_type": "markdown",
   "metadata": {},
   "source": [
    "We should that it was working quite well on a very small dataset"
   ]
  },
  {
   "cell_type": "code",
   "execution_count": 3,
   "metadata": {},
   "outputs": [],
   "source": [
    "from sklearn.datasets import load_iris\n",
    "iris = load_iris()\n",
    "X, y = iris.data, iris.target"
   ]
  },
  {
   "cell_type": "code",
   "execution_count": 4,
   "metadata": {},
   "outputs": [],
   "source": [
    "X = X[:, :2]"
   ]
  },
  {
   "cell_type": "markdown",
   "metadata": {},
   "source": [
    "In addition, we will use only the samples corresponding to the class `0` and `1`."
   ]
  },
  {
   "cell_type": "code",
   "execution_count": 5,
   "metadata": {},
   "outputs": [],
   "source": [
    "mask_class_0_1 = np.bitwise_or(y == 0, y == 1)"
   ]
  },
  {
   "cell_type": "code",
   "execution_count": 6,
   "metadata": {},
   "outputs": [],
   "source": [
    "X = X[mask_class_0_1]\n",
    "y = y[mask_class_0_1]"
   ]
  },
  {
   "cell_type": "code",
   "execution_count": 7,
   "metadata": {},
   "outputs": [
    {
     "data": {
      "text/plain": [
       "0.98"
      ]
     },
     "execution_count": 7,
     "metadata": {},
     "output_type": "execute_result"
    }
   ],
   "source": [
    "clf = LogisticRegression(learning_rate=0.1)\n",
    "clf.fit(X, y).score(X, y)"
   ]
  },
  {
   "cell_type": "markdown",
   "metadata": {},
   "source": [
    "### 2. What is Keras?"
   ]
  },
  {
   "cell_type": "markdown",
   "metadata": {},
   "source": [
    "Keras is an open source neural network library written in Python. Then, what is the relationship between our logistic regression and a neural network. Indeed, a logistic regression is equivalent to a neural network which does not have an hidden layer. Therefore, we will be able to use Keras to implement our logistic regression. In this regard, we will get use to the Keras API. "
   ]
  },
  {
   "cell_type": "markdown",
   "metadata": {},
   "source": [
    "Keras will give us all the different tools which we need to create our logistic regression"
   ]
  },
  {
   "cell_type": "code",
   "execution_count": 10,
   "metadata": {},
   "outputs": [],
   "source": [
    "from keras.models import Sequential\n",
    "from keras.layers.core import Dense, Activation"
   ]
  },
  {
   "cell_type": "code",
   "execution_count": 17,
   "metadata": {},
   "outputs": [],
   "source": [
    "model = Sequential()\n",
    "model.add(Dense(1, input_shape=(X.shape[1],)))\n",
    "model.add(Activation(\"sigmoid\"))"
   ]
  },
  {
   "cell_type": "code",
   "execution_count": 18,
   "metadata": {},
   "outputs": [],
   "source": [
    "from keras import optimizers"
   ]
  },
  {
   "cell_type": "code",
   "execution_count": 19,
   "metadata": {},
   "outputs": [],
   "source": [
    "model.compile(optimizer=optimizers.SGD(lr=0.1),\n",
    "              loss='binary_crossentropy',\n",
    "              metrics=['accuracy'])"
   ]
  },
  {
   "cell_type": "code",
   "execution_count": 21,
   "metadata": {},
   "outputs": [
    {
     "name": "stdout",
     "output_type": "stream",
     "text": [
      "Epoch 1/10\n",
      "100/100 [==============================] - 0s 159us/step - loss: 0.1469 - acc: 0.9900\n",
      "Epoch 2/10\n",
      "100/100 [==============================] - 0s 127us/step - loss: 0.1443 - acc: 0.9900\n",
      "Epoch 3/10\n",
      "100/100 [==============================] - 0s 184us/step - loss: 0.1446 - acc: 0.9900\n",
      "Epoch 4/10\n",
      "100/100 [==============================] - 0s 92us/step - loss: 0.1460 - acc: 0.9900\n",
      "Epoch 5/10\n",
      "100/100 [==============================] - 0s 89us/step - loss: 0.1433 - acc: 0.9900\n",
      "Epoch 6/10\n",
      "100/100 [==============================] - 0s 83us/step - loss: 0.1434 - acc: 0.9900\n",
      "Epoch 7/10\n",
      "100/100 [==============================] - 0s 217us/step - loss: 0.1418 - acc: 0.9900\n",
      "Epoch 8/10\n",
      "100/100 [==============================] - 0s 95us/step - loss: 0.1407 - acc: 0.9900\n",
      "Epoch 9/10\n",
      "100/100 [==============================] - 0s 127us/step - loss: 0.1447 - acc: 0.9800\n",
      "Epoch 10/10\n",
      "100/100 [==============================] - 0s 182us/step - loss: 0.1392 - acc: 0.9900\n"
     ]
    },
    {
     "data": {
      "text/plain": [
       "<keras.callbacks.History at 0x7f2b3c4b3b38>"
      ]
     },
     "execution_count": 21,
     "metadata": {},
     "output_type": "execute_result"
    }
   ],
   "source": [
    "model.fit(X, y, epochs=10, batch_size=20)"
   ]
  },
  {
   "cell_type": "code",
   "execution_count": 27,
   "metadata": {},
   "outputs": [
    {
     "name": "stdout",
     "output_type": "stream",
     "text": [
      "The mean accuracy is:  0.99\n"
     ]
    }
   ],
   "source": [
    "from sklearn.metrics import accuracy_score\n",
    "\n",
    "print('The mean accuracy is: ', \n",
    "      accuracy_score(y, model.predict_classes(X)))"
   ]
  },
  {
   "cell_type": "markdown",
   "metadata": {},
   "source": [
    "We can see that Keras will allow us to define simply the architecture of a neural network and will manage the computation of the gradient to optimize the weights of the network. Now that we know the different componenent required by a supervised classifier, we can start to learn more about Keras."
   ]
  },
  {
   "cell_type": "markdown",
   "metadata": {},
   "source": [
    "### 3. Training Neural Networks with Keras"
   ]
  },
  {
   "cell_type": "markdown",
   "metadata": {},
   "source": [
    "Now, we will use the `digits` dataset to train a neural networks using Keras."
   ]
  },
  {
   "cell_type": "code",
   "execution_count": 28,
   "metadata": {},
   "outputs": [],
   "source": [
    "from sklearn.datasets import load_digits\n",
    "\n",
    "digits = load_digits()"
   ]
  },
  {
   "cell_type": "markdown",
   "metadata": {},
   "source": [
    "#### 3.1 Preprocessing"
   ]
  },
  {
   "cell_type": "markdown",
   "metadata": {},
   "source": [
    "Before to be used in a classifier, it is preprocess the data. In the following code, we are converting the data into 32 bits precision and standardize the data to have zero mean and a unit standard deviation."
   ]
  },
  {
   "cell_type": "code",
   "execution_count": 36,
   "metadata": {},
   "outputs": [
    {
     "name": "stdout",
     "output_type": "stream",
     "text": [
      "[ 0.00000000e+00 -4.56695695e-08 -1.51841562e-08  1.74481176e-08\n",
      " -8.97777852e-09 -8.78260964e-10  1.26859918e-08 -2.74261396e-07\n",
      " -6.74504435e-08 -1.00180301e-07 -2.73236744e-09 -2.21712106e-08\n",
      " -1.60819340e-08 -4.62160443e-08 -2.67772009e-08 -3.52943800e-07\n",
      "  6.47912657e-08 -3.55500518e-08  8.35323810e-09  1.47547841e-08\n",
      "  1.26469581e-08 -9.68038734e-08  1.43644465e-08 -5.97227199e-07\n",
      " -3.76237246e-08 -9.98289984e-09 -5.79261901e-08  1.17101462e-09\n",
      " -1.21258566e-07 -5.72235805e-08 -1.32168523e-07  8.33738000e-07\n",
      "  0.00000000e+00  2.63868625e-08  3.59111141e-08  4.37178791e-08\n",
      "  3.47596192e-08 -5.85507323e-08 -5.03536279e-09  0.00000000e+00\n",
      " -2.17120757e-07  6.39276436e-08 -3.02902450e-08 -9.69600080e-08\n",
      "  1.40521754e-08 -4.61379770e-08  4.53182665e-08  2.40321469e-07\n",
      " -1.63810313e-07 -3.12270571e-10 -2.46693741e-08 -1.03829967e-08\n",
      "  4.88459477e-08 -9.68038805e-09  1.44425139e-08 -6.71967229e-08\n",
      "  2.31616930e-08  5.04316979e-08 -2.82019350e-08 -1.33378563e-07\n",
      " -1.35057023e-08 -2.40448337e-08 -1.32793062e-07 -8.60110276e-08]\n",
      "[0.         0.9999938  0.99999833 1.0000004  0.9999989  0.99999744\n",
      " 1.0000073  1.0000014  1.0000085  1.0000045  1.0000061  0.99999774\n",
      " 0.99999946 0.9999973  0.999998   1.0000051  1.0000056  1.0000048\n",
      " 1.0000008  1.0000019  0.99999905 0.99999636 0.99998796 0.9999961\n",
      " 0.9999965  0.99999845 0.9999994  1.0000008  1.0000031  1.0000025\n",
      " 0.9999941  0.99999774 0.         1.0000064  1.0000045  0.99999285\n",
      " 0.99999845 1.0000006  0.9999955  0.         0.9999891  1.0000006\n",
      " 1.0000029  1.         0.9999966  1.0000023  0.9999947  0.9999965\n",
      " 1.0000007  0.9999897  0.9999981  1.0000015  1.000001   0.99999905\n",
      " 0.999998   0.9999883  0.99999136 1.0000036  0.99999565 0.9999995\n",
      " 1.0000006  0.999997   0.999996   1.0000069 ]\n"
     ]
    }
   ],
   "source": [
    "from sklearn.preprocessing import StandardScaler\n",
    "from sklearn.model_selection import train_test_split\n",
    "\n",
    "data = np.asarray(digits.data, dtype='float32')\n",
    "target = np.asarray(digits.target, dtype='int32')\n",
    "\n",
    "X_train, X_test, y_train, y_test = train_test_split(\n",
    "    data, target, test_size=0.15, random_state=37)\n",
    "\n",
    "scaler = StandardScaler()\n",
    "X_train = scaler.fit_transform(X_train)\n",
    "X_test = scaler.transform(X_test)\n",
    "\n",
    "print(X_train.mean(axis=0))\n",
    "print(X_train.std(axis=0))"
   ]
  },
  {
   "cell_type": "markdown",
   "metadata": {},
   "source": [
    "Let's display the one of the transformed sample (after feature standardization):"
   ]
  },
  {
   "cell_type": "code",
   "execution_count": 34,
   "metadata": {},
   "outputs": [
    {
     "data": {
      "image/png": "[encoded data removed]",
      "text/plain": [
       "<Figure size 216x216 with 1 Axes>"
      ]
     },
     "metadata": {
      "needs_background": "light"
     },
     "output_type": "display_data"
    }
   ],
   "source": [
    "sample_index = 45\n",
    "plt.figure(figsize=(3, 3))\n",
    "plt.imshow(X_train[sample_index].reshape(8, 8),\n",
    "           cmap=plt.cm.gray_r, interpolation='nearest')\n",
    "plt.axis('off')\n",
    "plt.title(\"transformed sample\\n(standardization)\");"
   ]
  },
  {
   "cell_type": "markdown",
   "metadata": {},
   "source": [
    "The scaler objects makes it possible to recover the original sample:"
   ]
  },
  {
   "cell_type": "code",
   "execution_count": 37,
   "metadata": {},
   "outputs": [
    {
     "data": {
      "image/png": "[encoded data removed]",
      "text/plain": [
       "<Figure size 216x216 with 1 Axes>"
      ]
     },
     "metadata": {
      "needs_background": "light"
     },
     "output_type": "display_data"
    }
   ],
   "source": [
    "plt.figure(figsize=(3, 3))\n",
    "plt.imshow(scaler.inverse_transform(X_train[sample_index]).reshape(8, 8),\n",
    "           cmap=plt.cm.gray_r, interpolation='nearest')\n",
    "plt.title(\"original sample\");"
   ]
  },
  {
   "cell_type": "code",
   "execution_count": 38,
   "metadata": {},
   "outputs": [
    {
     "name": "stdout",
     "output_type": "stream",
     "text": [
      "(1527, 64) (1527,)\n"
     ]
    }
   ],
   "source": [
    "print(X_train.shape, y_train.shape)"
   ]
  },
  {
   "cell_type": "code",
   "execution_count": 39,
   "metadata": {},
   "outputs": [
    {
     "name": "stdout",
     "output_type": "stream",
     "text": [
      "(270, 64) (270,)\n"
     ]
    }
   ],
   "source": [
    "print(X_test.shape, y_test.shape)"
   ]
  },
  {
   "cell_type": "markdown",
   "metadata": {},
   "source": [
    "#### 3.2 Feed-forward neural network with Keras\n",
    "\n",
    "Objectives of this section:\n",
    "\n",
    "- Build and train a first feedforward network using `Keras`\n",
    "    - https://keras.io/getting-started/sequential-model-guide/\n",
    "- Experiment with different optimizers, activations, size of layers, initializations\n",
    "\n",
    "#### 3.2.1 Keras Workflow"
   ]
  },
  {
   "cell_type": "markdown",
   "metadata": {},
   "source": [
    "To build a first neural network we need to turn the target variable into a vector \"one-hot-encoding\" representation. Here are the labels of the first samples in the training set encoded as integers:"
   ]
  },
  {
   "cell_type": "code",
   "execution_count": 40,
   "metadata": {},
   "outputs": [
    {
     "data": {
      "text/plain": [
       "array([2, 9, 5], dtype=int32)"
      ]
     },
     "execution_count": 40,
     "metadata": {},
     "output_type": "execute_result"
    }
   ],
   "source": [
    "y_train[:3]"
   ]
  },
  {
   "cell_type": "markdown",
   "metadata": {},
   "source": [
    "Keras provides a utility function to convert integer-encoded categorical variables as one-hot encoded values:"
   ]
  },
  {
   "cell_type": "code",
   "execution_count": 41,
   "metadata": {},
   "outputs": [
    {
     "data": {
      "text/plain": [
       "array([[0., 0., 1., 0., 0., 0., 0., 0., 0., 0.],\n",
       "       [0., 0., 0., 0., 0., 0., 0., 0., 0., 1.],\n",
       "       [0., 0., 0., 0., 0., 1., 0., 0., 0., 0.]], dtype=float32)"
      ]
     },
     "execution_count": 41,
     "metadata": {},
     "output_type": "execute_result"
    }
   ],
   "source": [
    "import keras\n",
    "from keras.utils.np_utils import to_categorical\n",
    "\n",
    "Y_train = to_categorical(y_train)\n",
    "Y_train[:3]"
   ]
  },
  {
   "cell_type": "markdown",
   "metadata": {},
   "source": [
    "We can now build an train a our first feed forward neural network using the high level API from keras:\n",
    "\n",
    "- first we define the model by stacking layers with the right dimensions\n",
    "- then we define a loss function and plug the SGD optimizer\n",
    "- then we feed the model the training data for fixed number of epochs"
   ]
  },
  {
   "cell_type": "code",
   "execution_count": 42,
   "metadata": {},
   "outputs": [
    {
     "name": "stdout",
     "output_type": "stream",
     "text": [
      "Epoch 1/15\n",
      "1527/1527 [==============================] - 0s 253us/step - loss: 5.7545 - acc: 0.5900\n",
      "Epoch 2/15\n",
      "1527/1527 [==============================] - 0s 43us/step - loss: 4.9310 - acc: 0.6654\n",
      "Epoch 3/15\n",
      "1527/1527 [==============================] - 0s 72us/step - loss: 4.4924 - acc: 0.7033\n",
      "Epoch 4/15\n",
      "1527/1527 [==============================] - 0s 64us/step - loss: 4.3799 - acc: 0.7138\n",
      "Epoch 5/15\n",
      "1527/1527 [==============================] - 0s 61us/step - loss: 4.2891 - acc: 0.7217\n",
      "Epoch 6/15\n",
      "1527/1527 [==============================] - 0s 77us/step - loss: 4.1740 - acc: 0.7197\n",
      "Epoch 7/15\n",
      "1527/1527 [==============================] - 0s 68us/step - loss: 4.1771 - acc: 0.7210\n",
      "Epoch 8/15\n",
      "1527/1527 [==============================] - 0s 67us/step - loss: 3.9379 - acc: 0.7459\n",
      "Epoch 9/15\n",
      "1527/1527 [==============================] - 0s 69us/step - loss: 4.0556 - acc: 0.7380\n",
      "Epoch 10/15\n",
      "1527/1527 [==============================] - 0s 67us/step - loss: 3.9861 - acc: 0.7394\n",
      "Epoch 11/15\n",
      "1527/1527 [==============================] - 0s 87us/step - loss: 3.8507 - acc: 0.7544\n",
      "Epoch 12/15\n",
      "1527/1527 [==============================] - 0s 63us/step - loss: 3.8867 - acc: 0.7485\n",
      "Epoch 13/15\n",
      "1527/1527 [==============================] - 0s 82us/step - loss: 3.9975 - acc: 0.7400\n",
      "Epoch 14/15\n",
      "1527/1527 [==============================] - 0s 69us/step - loss: 3.7726 - acc: 0.7577\n",
      "Epoch 15/15\n",
      "1527/1527 [==============================] - 0s 80us/step - loss: 3.7992 - acc: 0.7492\n"
     ]
    }
   ],
   "source": [
    "from keras.models import Sequential\n",
    "from keras.layers.core import Dense, Activation\n",
    "from keras import optimizers\n",
    "\n",
    "N = X_train.shape[1]\n",
    "H = 100\n",
    "K = 10\n",
    "\n",
    "model = Sequential()\n",
    "model.add(Dense(H, input_dim=N))\n",
    "model.add(Activation(\"tanh\"))\n",
    "model.add(Dense(K))\n",
    "model.add(Activation(\"softmax\"))\n",
    "\n",
    "model.compile(optimizer=optimizers.SGD(lr=10),\n",
    "              loss='categorical_crossentropy', metrics=['accuracy'])\n",
    "\n",
    "model.fit(X_train, Y_train, epochs=15, batch_size=32);"
   ]
  },
  {
   "cell_type": "markdown",
   "metadata": {},
   "source": [
    "#### 3.2.2 Exercises: Impact of the Optimizer\n",
    "\n",
    "- Try to decrease the learning rate value by 10 or 100. What do you observe?\n",
    "\n",
    "- Try to increase the learning rate value to make the optimization diverge.\n",
    "\n",
    "- Configure the SGD optimizer to enable a Nesterov momentum of 0.9\n",
    "  \n",
    "Note that the keras API documentation is available at:\n",
    "\n",
    "https://keras.io/\n",
    "\n",
    "It is also possible to learn more about the parameters of a class by using the question mark: type and evaluate:\n",
    "\n",
    "```python\n",
    "optimizers.SGD?\n",
    "```\n",
    "\n",
    "in a jupyter notebook cell."
   ]
  },
  {
   "cell_type": "code",
   "execution_count": 13,
   "metadata": {},
   "outputs": [
    {
     "name": "stdout",
     "output_type": "stream",
     "text": [
      "Epoch 1/15\n",
      "1527/1527 [==============================] - 1s 424us/step - loss: 0.3950 - acc: 0.8847\n",
      "Epoch 2/15\n",
      "1527/1527 [==============================] - 0s 170us/step - loss: 0.0777 - acc: 0.9771\n",
      "Epoch 3/15\n",
      "1527/1527 [==============================] - 0s 182us/step - loss: 0.0338 - acc: 0.9928\n",
      "Epoch 4/15\n",
      "1527/1527 [==============================] - 0s 173us/step - loss: 0.0186 - acc: 0.9974\n",
      "Epoch 5/15\n",
      "1527/1527 [==============================] - 0s 163us/step - loss: 0.0103 - acc: 0.9993\n",
      "Epoch 6/15\n",
      "1527/1527 [==============================] - 0s 178us/step - loss: 0.0077 - acc: 1.0000\n",
      "Epoch 7/15\n",
      "1527/1527 [==============================] - 0s 183us/step - loss: 0.0057 - acc: 1.0000\n",
      "Epoch 8/15\n",
      "1527/1527 [==============================] - 0s 218us/step - loss: 0.0046 - acc: 1.0000\n",
      "Epoch 9/15\n",
      "1527/1527 [==============================] - 0s 313us/step - loss: 0.0041 - acc: 1.0000\n",
      "Epoch 10/15\n",
      "1527/1527 [==============================] - 0s 317us/step - loss: 0.0036 - acc: 1.0000\n",
      "Epoch 11/15\n",
      "1527/1527 [==============================] - 1s 431us/step - loss: 0.0032 - acc: 1.0000\n",
      "Epoch 12/15\n",
      "1527/1527 [==============================] - 1s 340us/step - loss: 0.0029 - acc: 1.0000\n",
      "Epoch 13/15\n",
      "1527/1527 [==============================] - 1s 457us/step - loss: 0.0027 - acc: 1.0000\n",
      "Epoch 14/15\n",
      "1527/1527 [==============================] - 0s 235us/step - loss: 0.0024 - acc: 1.0000\n",
      "Epoch 15/15\n",
      "1527/1527 [==============================] - 0s 223us/step - loss: 0.0023 - acc: 1.0000\n"
     ]
    },
    {
     "data": {
      "text/plain": [
       "<keras.callbacks.History at 0x7fd2c6990978>"
      ]
     },
     "execution_count": 13,
     "metadata": {},
     "output_type": "execute_result"
    }
   ],
   "source": [
    "model = Sequential()\n",
    "model.add(Dense(H, input_dim=N))\n",
    "model.add(Activation(\"tanh\"))\n",
    "model.add(Dense(K))\n",
    "model.add(Activation(\"softmax\"))\n",
    "\n",
    "optimizer = optimizers.SGD(lr=0.1, momentum=0.9, nesterov=True)\n",
    "model.compile(optimizer=optimizer, loss='categorical_crossentropy',\n",
    "              metrics=['accuracy'])\n",
    "model.fit(X_train, Y_train, epochs=15, batch_size=32)\n",
    "\n",
    "\n",
    "# Analysis:\n",
    "#\n",
    "# Setting the learning rate value to a small value (e.g. lr=0.001 on\n",
    "# this dataset) makes the model train much slower (it has not\n",
    "# converged yet after 15 epochs).\n",
    "#\n",
    "# Using momentum tends to mitigate the small learning rate / slow\n",
    "# training problem a bit.\n",
    "#\n",
    "# Setting the learning rate to a very large value (e.g. lr=10)\n",
    "# makes the model randomly bounce around a good local\n",
    "# minimum and therefore prevent it to reach a low training loss even\n",
    "# after 30 epochs.\n"
   ]
  },
  {
   "cell_type": "markdown",
   "metadata": {},
   "source": [
    "- Replace the SGD optimizer by the Adam optimizer from keras and run it\n",
    "  with the default parameters.\n",
    "\n",
    "- Add another hidden layer and use the \"Rectified Linear Unit\" for each\n",
    "  hidden layer. Can you still train the model with Adam with its default global\n",
    "  learning rate?\n",
    "\n",
    "- Bonus: try the Adadelta optimizer (no learning rate to set).\n",
    "\n",
    "Hint: use `optimizers.<TAB>` to tab-complete the list of implemented optimizers in Keras."
   ]
  },
  {
   "cell_type": "code",
   "execution_count": 43,
   "metadata": {},
   "outputs": [
    {
     "name": "stdout",
     "output_type": "stream",
     "text": [
      "Epoch 1/15\n",
      "1527/1527 [==============================] - 1s 430us/step - loss: 1.3709 - acc: 0.6457\n",
      "Epoch 2/15\n",
      "1527/1527 [==============================] - 0s 134us/step - loss: 0.3797 - acc: 0.9155\n",
      "Epoch 3/15\n",
      "1527/1527 [==============================] - 0s 102us/step - loss: 0.1808 - acc: 0.9620\n",
      "Epoch 4/15\n",
      "1527/1527 [==============================] - 0s 96us/step - loss: 0.1087 - acc: 0.9804\n",
      "Epoch 5/15\n",
      "1527/1527 [==============================] - 0s 87us/step - loss: 0.0740 - acc: 0.9889\n",
      "Epoch 6/15\n",
      "1527/1527 [==============================] - 0s 109us/step - loss: 0.0517 - acc: 0.9921\n",
      "Epoch 7/15\n",
      "1527/1527 [==============================] - 0s 139us/step - loss: 0.0388 - acc: 0.9967\n",
      "Epoch 8/15\n",
      "1527/1527 [==============================] - 0s 121us/step - loss: 0.0278 - acc: 0.9980\n",
      "Epoch 9/15\n",
      "1527/1527 [==============================] - 0s 147us/step - loss: 0.0210 - acc: 0.9993\n",
      "Epoch 10/15\n",
      "1527/1527 [==============================] - 0s 217us/step - loss: 0.0162 - acc: 1.0000\n",
      "Epoch 11/15\n",
      "1527/1527 [==============================] - 0s 120us/step - loss: 0.0133 - acc: 1.0000\n",
      "Epoch 12/15\n",
      "1527/1527 [==============================] - 0s 137us/step - loss: 0.0101 - acc: 1.0000\n",
      "Epoch 13/15\n",
      "1527/1527 [==============================] - 0s 95us/step - loss: 0.0084 - acc: 1.0000\n",
      "Epoch 14/15\n",
      "1527/1527 [==============================] - 0s 114us/step - loss: 0.0073 - acc: 1.0000\n",
      "Epoch 15/15\n",
      "1527/1527 [==============================] - 0s 117us/step - loss: 0.0060 - acc: 1.0000\n"
     ]
    },
    {
     "data": {
      "text/plain": [
       "<keras.callbacks.History at 0x7f2b2b55f438>"
      ]
     },
     "execution_count": 43,
     "metadata": {},
     "output_type": "execute_result"
    }
   ],
   "source": [
    "model = Sequential()\n",
    "model.add(Dense(H, input_dim=N))\n",
    "model.add(Activation(\"relu\"))\n",
    "model.add(Dense(H))\n",
    "model.add(Activation(\"relu\"))\n",
    "model.add(Dense(K))\n",
    "model.add(Activation(\"softmax\"))\n",
    "model.compile(optimizer=\"adam\", loss='categorical_crossentropy',\n",
    "              metrics=['accuracy'])\n",
    "\n",
    "model.fit(X_train, Y_train, epochs=15, batch_size=32)\n",
    "\n",
    "# Analysis:\n",
    "#\n",
    "# Adam with its default global learning rate of 0.001 tends to work\n",
    "# in many settings often converge as fast or faster than SGD\n",
    "# with a well tuned learning rate.\n",
    "#\n",
    "# Adadelta has no learning rate setting at all\n",
    "#\n",
    "# References:\n",
    "#\n",
    "# Adadelta: https://arxiv.org/abs/1212.5701\n",
    "# Adam:     https://arxiv.org/abs/1412.6980\n"
   ]
  },
  {
   "cell_type": "markdown",
   "metadata": {},
   "source": [
    "#### 3.2.3 Exercises: forward pass and generalization\n",
    "\n",
    "- Compute predictions on test set using `model.predict_classes(...)`\n",
    "- Compute average accuracy of the model on the test set"
   ]
  },
  {
   "cell_type": "code",
   "execution_count": 17,
   "metadata": {},
   "outputs": [
    {
     "name": "stdout",
     "output_type": "stream",
     "text": [
      "test acc: 0.9778\n"
     ]
    },
    {
     "data": {
      "image/png": "[encoded data removed]",
      "text/plain": [
       "<Figure size 864x648 with 15 Axes>"
      ]
     },
     "metadata": {
      "needs_background": "light"
     },
     "output_type": "display_data"
    }
   ],
   "source": [
    "y_predicted = model.predict_classes(X_test, verbose=0)\n",
    "\n",
    "# Let's display the first inputs image, the predicted labels and the true labels\n",
    "plt.figure(figsize=(12, 9))\n",
    "for i in range(15):\n",
    "    plt.subplot(3, 5, i + 1)\n",
    "    plt.imshow(scaler.inverse_transform(X_test[i]).reshape(8, 8),\n",
    "               cmap=plt.cm.gray_r, interpolation='nearest')\n",
    "    plt.title(\"predicted label: %d\\n true label: %d\"\n",
    "              % (y_predicted[i], y_test[i]))\n",
    "    \n",
    "print(\"test acc: %0.4f\" % np.mean(y_predicted == y_test))"
   ]
  }
 ],
 "metadata": {
  "kernelspec": {
   "display_name": "Python 3",
   "language": "python",
   "name": "python3"
  },
  "language_info": {
   "codemirror_mode": {
    "name": "ipython",
    "version": 3
   },
   "file_extension": ".py",
   "mimetype": "text/x-python",
   "name": "python",
   "nbconvert_exporter": "python",
   "pygments_lexer": "ipython3",
   "version": "3.6.7"
  }
 },
 "nbformat": 4,
 "nbformat_minor": 2
}
